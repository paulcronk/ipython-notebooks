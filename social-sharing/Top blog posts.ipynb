{
 "cells": [
  {
   "cell_type": "code",
   "execution_count": 1,
   "metadata": {
    "collapsed": true
   },
   "outputs": [],
   "source": [
    "import urllib2\n",
    "import json\n",
    "import pandas as pd\n",
    "import csv"
   ]
  },
  {
   "cell_type": "markdown",
   "metadata": {},
   "source": [
    "Upload posts CSV file into a pandas dataframe. \n",
    "CSV contains 3 columns, illustrated below.\n",
    "Note ascii problems."
   ]
  },
  {
   "cell_type": "code",
   "execution_count": 3,
   "metadata": {
    "collapsed": false
   },
   "outputs": [
    {
     "data": {
      "text/html": [
       "<div>\n",
       "<table border=\"1\" class=\"dataframe\">\n",
       "  <thead>\n",
       "    <tr style=\"text-align: right;\">\n",
       "      <th></th>\n",
       "      <th>Page Title</th>\n",
       "      <th>Page</th>\n",
       "      <th>Unique Page Views</th>\n",
       "    </tr>\n",
       "  </thead>\n",
       "  <tbody>\n",
       "    <tr>\n",
       "      <th>0</th>\n",
       "      <td>Check a vehicle�۪s MOT status online | Matters...</td>\n",
       "      <td>mattersoftesting.blog.gov.uk/check-a-vehicles-...</td>\n",
       "      <td>338,547</td>\n",
       "    </tr>\n",
       "    <tr>\n",
       "      <th>1</th>\n",
       "      <td>DVLA digital services</td>\n",
       "      <td>dvladigital.blog.gov.uk/</td>\n",
       "      <td>134,249</td>\n",
       "    </tr>\n",
       "    <tr>\n",
       "      <th>2</th>\n",
       "      <td>Renew your tax disc online | Moving On</td>\n",
       "      <td>movingon.blog.gov.uk/renew-your-tax-disc-online/</td>\n",
       "      <td>117,345</td>\n",
       "    </tr>\n",
       "    <tr>\n",
       "      <th>3</th>\n",
       "      <td>Reminder ��� HGV speed limit changes in Englan...</td>\n",
       "      <td>movingon.blog.gov.uk/reminder-hgv-speed-limit-...</td>\n",
       "      <td>107,211</td>\n",
       "    </tr>\n",
       "    <tr>\n",
       "      <th>4</th>\n",
       "      <td>It now costs less to retain your personalised ...</td>\n",
       "      <td>dvladigital.blog.gov.uk/2015/03/09/it-now-cost...</td>\n",
       "      <td>75,147</td>\n",
       "    </tr>\n",
       "  </tbody>\n",
       "</table>\n",
       "</div>"
      ],
      "text/plain": [
       "                                          Page Title  \\\n",
       "0  Check a vehicle�۪s MOT status online | Matters...   \n",
       "1                              DVLA digital services   \n",
       "2             Renew your tax disc online | Moving On   \n",
       "3  Reminder ��� HGV speed limit changes in Englan...   \n",
       "4  It now costs less to retain your personalised ...   \n",
       "\n",
       "                                                Page Unique Page Views  \n",
       "0  mattersoftesting.blog.gov.uk/check-a-vehicles-...           338,547  \n",
       "1                           dvladigital.blog.gov.uk/           134,249  \n",
       "2   movingon.blog.gov.uk/renew-your-tax-disc-online/           117,345  \n",
       "3  movingon.blog.gov.uk/reminder-hgv-speed-limit-...           107,211  \n",
       "4  dvladigital.blog.gov.uk/2015/03/09/it-now-cost...            75,147  "
      ]
     },
     "execution_count": 3,
     "metadata": {},
     "output_type": "execute_result"
    }
   ],
   "source": [
    "posts_df = pd.read_csv('top-blog-posts.csv')\n",
    "posts_df.head()"
   ]
  },
  {
   "cell_type": "markdown",
   "metadata": {},
   "source": [
    "Add the 'https://' onto every URL slug in the posts_df['Page'] column"
   ]
  },
  {
   "cell_type": "code",
   "execution_count": 4,
   "metadata": {
    "collapsed": false
   },
   "outputs": [
    {
     "data": {
      "text/html": [
       "<div>\n",
       "<table border=\"1\" class=\"dataframe\">\n",
       "  <thead>\n",
       "    <tr style=\"text-align: right;\">\n",
       "      <th></th>\n",
       "      <th>Page Title</th>\n",
       "      <th>Page</th>\n",
       "      <th>Unique Page Views</th>\n",
       "    </tr>\n",
       "  </thead>\n",
       "  <tbody>\n",
       "    <tr>\n",
       "      <th>0</th>\n",
       "      <td>Check a vehicle�۪s MOT status online | Matters...</td>\n",
       "      <td>https://mattersoftesting.blog.gov.uk/check-a-v...</td>\n",
       "      <td>338,547</td>\n",
       "    </tr>\n",
       "    <tr>\n",
       "      <th>1</th>\n",
       "      <td>DVLA digital services</td>\n",
       "      <td>https://dvladigital.blog.gov.uk/</td>\n",
       "      <td>134,249</td>\n",
       "    </tr>\n",
       "    <tr>\n",
       "      <th>2</th>\n",
       "      <td>Renew your tax disc online | Moving On</td>\n",
       "      <td>https://movingon.blog.gov.uk/renew-your-tax-di...</td>\n",
       "      <td>117,345</td>\n",
       "    </tr>\n",
       "    <tr>\n",
       "      <th>3</th>\n",
       "      <td>Reminder ��� HGV speed limit changes in Englan...</td>\n",
       "      <td>https://movingon.blog.gov.uk/reminder-hgv-spee...</td>\n",
       "      <td>107,211</td>\n",
       "    </tr>\n",
       "    <tr>\n",
       "      <th>4</th>\n",
       "      <td>It now costs less to retain your personalised ...</td>\n",
       "      <td>https://dvladigital.blog.gov.uk/2015/03/09/it-...</td>\n",
       "      <td>75,147</td>\n",
       "    </tr>\n",
       "  </tbody>\n",
       "</table>\n",
       "</div>"
      ],
      "text/plain": [
       "                                          Page Title  \\\n",
       "0  Check a vehicle�۪s MOT status online | Matters...   \n",
       "1                              DVLA digital services   \n",
       "2             Renew your tax disc online | Moving On   \n",
       "3  Reminder ��� HGV speed limit changes in Englan...   \n",
       "4  It now costs less to retain your personalised ...   \n",
       "\n",
       "                                                Page Unique Page Views  \n",
       "0  https://mattersoftesting.blog.gov.uk/check-a-v...           338,547  \n",
       "1                   https://dvladigital.blog.gov.uk/           134,249  \n",
       "2  https://movingon.blog.gov.uk/renew-your-tax-di...           117,345  \n",
       "3  https://movingon.blog.gov.uk/reminder-hgv-spee...           107,211  \n",
       "4  https://dvladigital.blog.gov.uk/2015/03/09/it-...            75,147  "
      ]
     },
     "execution_count": 4,
     "metadata": {},
     "output_type": "execute_result"
    }
   ],
   "source": [
    "posts_df['Page'] = 'https://' + posts_df['Page'].astype(str)\n",
    "posts_df.head()"
   ]
  },
  {
   "cell_type": "markdown",
   "metadata": {},
   "source": [
    "Define a function that calls up data from Sharedcount.com for each URL and uses my API key"
   ]
  },
  {
   "cell_type": "code",
   "execution_count": 5,
   "metadata": {
    "collapsed": true
   },
   "outputs": [],
   "source": [
    "def get_social_metrics(url, api_key):\n",
    "    sharedcount_response = urllib2.urlopen('https://free.sharedcount.com/?url=' + url + '&apikey=' + api_key)\n",
    "    return json.load(sharedcount_response)"
   ]
  },
  {
   "cell_type": "markdown",
   "metadata": {},
   "source": [
    "API key defined.\n",
    "Runs function against each row in that column, placing data into a new column."
   ]
  },
  {
   "cell_type": "code",
   "execution_count": 6,
   "metadata": {
    "collapsed": false
   },
   "outputs": [],
   "source": [
    "SHAREDCOUNT_API_KEY = '2c8787d463e1be55a6ef68b1a341ccc0ccb41697'\n",
    "posts_df['sharedcount_metrics'] = map(lambda Page: get_social_metrics(Page, SHAREDCOUNT_API_KEY), posts_df['Page'])"
   ]
  },
  {
   "cell_type": "code",
   "execution_count": 63,
   "metadata": {
    "collapsed": false
   },
   "outputs": [
    {
     "data": {
      "text/html": [
       "<div style=\"max-height:1000px;max-width:1500px;overflow:auto;\">\n",
       "<table border=\"1\" class=\"dataframe\">\n",
       "  <thead>\n",
       "    <tr style=\"text-align: right;\">\n",
       "      <th></th>\n",
       "      <th>Page Title</th>\n",
       "      <th>Page</th>\n",
       "      <th>Unique Page Views</th>\n",
       "      <th>sharedcount_metrics</th>\n",
       "    </tr>\n",
       "  </thead>\n",
       "  <tbody>\n",
       "    <tr>\n",
       "      <th>0</th>\n",
       "      <td> Check a vehicle�۪s MOT status online | Matters...</td>\n",
       "      <td> https://mattersoftesting.blog.gov.uk/check-a-v...</td>\n",
       "      <td> 338,547</td>\n",
       "      <td> {u'StumbleUpon': 0, u'Reddit': 0, u'Delicious'...</td>\n",
       "    </tr>\n",
       "    <tr>\n",
       "      <th>1</th>\n",
       "      <td>                             DVLA digital services</td>\n",
       "      <td>                  https://dvladigital.blog.gov.uk/</td>\n",
       "      <td> 134,249</td>\n",
       "      <td> {u'StumbleUpon': 0, u'Reddit': 0, u'Delicious'...</td>\n",
       "    </tr>\n",
       "    <tr>\n",
       "      <th>2</th>\n",
       "      <td>            Renew your tax disc online | Moving On</td>\n",
       "      <td> https://movingon.blog.gov.uk/renew-your-tax-di...</td>\n",
       "      <td> 117,345</td>\n",
       "      <td> {u'StumbleUpon': 0, u'Reddit': 0, u'Delicious'...</td>\n",
       "    </tr>\n",
       "    <tr>\n",
       "      <th>3</th>\n",
       "      <td> Reminder ��� HGV speed limit changes in Englan...</td>\n",
       "      <td> https://movingon.blog.gov.uk/reminder-hgv-spee...</td>\n",
       "      <td> 107,211</td>\n",
       "      <td> {u'StumbleUpon': 0, u'Reddit': 0, u'Delicious'...</td>\n",
       "    </tr>\n",
       "    <tr>\n",
       "      <th>4</th>\n",
       "      <td> It now costs less to retain your personalised ...</td>\n",
       "      <td> https://dvladigital.blog.gov.uk/2015/03/09/it-...</td>\n",
       "      <td>  75,147</td>\n",
       "      <td> {u'StumbleUpon': 0, u'Reddit': 0, u'Delicious'...</td>\n",
       "    </tr>\n",
       "  </tbody>\n",
       "</table>\n",
       "</div>"
      ],
      "text/plain": [
       "                                          Page Title  \\\n",
       "0  Check a vehicle�۪s MOT status online | Matters...   \n",
       "1                              DVLA digital services   \n",
       "2             Renew your tax disc online | Moving On   \n",
       "3  Reminder ��� HGV speed limit changes in Englan...   \n",
       "4  It now costs less to retain your personalised ...   \n",
       "\n",
       "                                                Page Unique Page Views  \\\n",
       "0  https://mattersoftesting.blog.gov.uk/check-a-v...           338,547   \n",
       "1                   https://dvladigital.blog.gov.uk/           134,249   \n",
       "2  https://movingon.blog.gov.uk/renew-your-tax-di...           117,345   \n",
       "3  https://movingon.blog.gov.uk/reminder-hgv-spee...           107,211   \n",
       "4  https://dvladigital.blog.gov.uk/2015/03/09/it-...            75,147   \n",
       "\n",
       "                                 sharedcount_metrics  \n",
       "0  {u'StumbleUpon': 0, u'Reddit': 0, u'Delicious'...  \n",
       "1  {u'StumbleUpon': 0, u'Reddit': 0, u'Delicious'...  \n",
       "2  {u'StumbleUpon': 0, u'Reddit': 0, u'Delicious'...  \n",
       "3  {u'StumbleUpon': 0, u'Reddit': 0, u'Delicious'...  \n",
       "4  {u'StumbleUpon': 0, u'Reddit': 0, u'Delicious'...  "
      ]
     },
     "execution_count": 63,
     "metadata": {},
     "output_type": "execute_result"
    }
   ],
   "source": [
    "posts_df.head()"
   ]
  },
  {
   "cell_type": "markdown",
   "metadata": {},
   "source": [
    "Extract selected fields from the sharedcount.com data and put them in their own columns"
   ]
  },
  {
   "cell_type": "code",
   "execution_count": 64,
   "metadata": {
    "collapsed": true
   },
   "outputs": [],
   "source": [
    "posts_df['Twitter'] = map(lambda sharedcount: sharedcount['Twitter'], posts_df['sharedcount_metrics'])\n",
    "posts_df['LinkedIn'] = map(lambda sharedcount: sharedcount['LinkedIn'], posts_df['sharedcount_metrics'])\n",
    "posts_df['Facebook shares'] = map(lambda sharedcount: sharedcount['Facebook']['share_count'], posts_df['sharedcount_metrics'])\n",
    "posts_df['Facebook likes'] = map(lambda sharedcount: sharedcount['Facebook']['like_count'], posts_df['sharedcount_metrics'])\n",
    "posts_df['Facebook comments'] = map(lambda sharedcount: sharedcount['Facebook']['comment_count'], posts_df['sharedcount_metrics'])"
   ]
  },
  {
   "cell_type": "code",
   "execution_count": 65,
   "metadata": {
    "collapsed": false
   },
   "outputs": [
    {
     "data": {
      "text/html": [
       "<div style=\"max-height:1000px;max-width:1500px;overflow:auto;\">\n",
       "<table border=\"1\" class=\"dataframe\">\n",
       "  <thead>\n",
       "    <tr style=\"text-align: right;\">\n",
       "      <th></th>\n",
       "      <th>Page Title</th>\n",
       "      <th>Page</th>\n",
       "      <th>Unique Page Views</th>\n",
       "      <th>sharedcount_metrics</th>\n",
       "      <th>Twitter</th>\n",
       "      <th>LinkedIn</th>\n",
       "      <th>Facebook shares</th>\n",
       "      <th>Facebook likes</th>\n",
       "      <th>Facebook comments</th>\n",
       "    </tr>\n",
       "  </thead>\n",
       "  <tbody>\n",
       "    <tr>\n",
       "      <th>0</th>\n",
       "      <td> Check a vehicle�۪s MOT status online | Matters...</td>\n",
       "      <td> https://mattersoftesting.blog.gov.uk/check-a-v...</td>\n",
       "      <td> 338,547</td>\n",
       "      <td> {u'StumbleUpon': 0, u'Reddit': 0, u'Delicious'...</td>\n",
       "      <td>  21</td>\n",
       "      <td>   3</td>\n",
       "      <td>  20</td>\n",
       "      <td>    9</td>\n",
       "      <td>    4</td>\n",
       "    </tr>\n",
       "    <tr>\n",
       "      <th>1</th>\n",
       "      <td>                             DVLA digital services</td>\n",
       "      <td>                  https://dvladigital.blog.gov.uk/</td>\n",
       "      <td> 134,249</td>\n",
       "      <td> {u'StumbleUpon': 0, u'Reddit': 0, u'Delicious'...</td>\n",
       "      <td>  42</td>\n",
       "      <td>  20</td>\n",
       "      <td>   0</td>\n",
       "      <td>    0</td>\n",
       "      <td>    0</td>\n",
       "    </tr>\n",
       "    <tr>\n",
       "      <th>2</th>\n",
       "      <td>            Renew your tax disc online | Moving On</td>\n",
       "      <td> https://movingon.blog.gov.uk/renew-your-tax-di...</td>\n",
       "      <td> 117,345</td>\n",
       "      <td> {u'StumbleUpon': 0, u'Reddit': 0, u'Delicious'...</td>\n",
       "      <td>   3</td>\n",
       "      <td>   0</td>\n",
       "      <td>  10</td>\n",
       "      <td>    3</td>\n",
       "      <td>   12</td>\n",
       "    </tr>\n",
       "    <tr>\n",
       "      <th>3</th>\n",
       "      <td> Reminder ��� HGV speed limit changes in Englan...</td>\n",
       "      <td> https://movingon.blog.gov.uk/reminder-hgv-spee...</td>\n",
       "      <td> 107,211</td>\n",
       "      <td> {u'StumbleUpon': 0, u'Reddit': 0, u'Delicious'...</td>\n",
       "      <td> 238</td>\n",
       "      <td> 243</td>\n",
       "      <td> 928</td>\n",
       "      <td> 3545</td>\n",
       "      <td> 3682</td>\n",
       "    </tr>\n",
       "    <tr>\n",
       "      <th>4</th>\n",
       "      <td> It now costs less to retain your personalised ...</td>\n",
       "      <td> https://dvladigital.blog.gov.uk/2015/03/09/it-...</td>\n",
       "      <td>  75,147</td>\n",
       "      <td> {u'StumbleUpon': 0, u'Reddit': 0, u'Delicious'...</td>\n",
       "      <td>  47</td>\n",
       "      <td>   9</td>\n",
       "      <td> 110</td>\n",
       "      <td>  120</td>\n",
       "      <td>   75</td>\n",
       "    </tr>\n",
       "  </tbody>\n",
       "</table>\n",
       "</div>"
      ],
      "text/plain": [
       "                                          Page Title  \\\n",
       "0  Check a vehicle�۪s MOT status online | Matters...   \n",
       "1                              DVLA digital services   \n",
       "2             Renew your tax disc online | Moving On   \n",
       "3  Reminder ��� HGV speed limit changes in Englan...   \n",
       "4  It now costs less to retain your personalised ...   \n",
       "\n",
       "                                                Page Unique Page Views  \\\n",
       "0  https://mattersoftesting.blog.gov.uk/check-a-v...           338,547   \n",
       "1                   https://dvladigital.blog.gov.uk/           134,249   \n",
       "2  https://movingon.blog.gov.uk/renew-your-tax-di...           117,345   \n",
       "3  https://movingon.blog.gov.uk/reminder-hgv-spee...           107,211   \n",
       "4  https://dvladigital.blog.gov.uk/2015/03/09/it-...            75,147   \n",
       "\n",
       "                                 sharedcount_metrics  Twitter  LinkedIn  \\\n",
       "0  {u'StumbleUpon': 0, u'Reddit': 0, u'Delicious'...       21         3   \n",
       "1  {u'StumbleUpon': 0, u'Reddit': 0, u'Delicious'...       42        20   \n",
       "2  {u'StumbleUpon': 0, u'Reddit': 0, u'Delicious'...        3         0   \n",
       "3  {u'StumbleUpon': 0, u'Reddit': 0, u'Delicious'...      238       243   \n",
       "4  {u'StumbleUpon': 0, u'Reddit': 0, u'Delicious'...       47         9   \n",
       "\n",
       "   Facebook shares  Facebook likes  Facebook comments  \n",
       "0               20               9                  4  \n",
       "1                0               0                  0  \n",
       "2               10               3                 12  \n",
       "3              928            3545               3682  \n",
       "4              110             120                 75  "
      ]
     },
     "execution_count": 65,
     "metadata": {},
     "output_type": "execute_result"
    }
   ],
   "source": [
    "posts_df.head()"
   ]
  },
  {
   "cell_type": "markdown",
   "metadata": {},
   "source": [
    "Writes dataframe to CSV"
   ]
  },
  {
   "cell_type": "code",
   "execution_count": 66,
   "metadata": {
    "collapsed": false
   },
   "outputs": [],
   "source": [
    "posts_df.to_csv('top-blog-posts_social-shares.csv')"
   ]
  }
 ],
 "metadata": {
  "kernelspec": {
   "display_name": "Python 2",
   "language": "python",
   "name": "python2"
  },
  "language_info": {
   "codemirror_mode": {
    "name": "ipython",
    "version": 2
   },
   "file_extension": ".py",
   "mimetype": "text/x-python",
   "name": "python",
   "nbconvert_exporter": "python",
   "pygments_lexer": "ipython2",
   "version": "2.7.8"
  }
 },
 "nbformat": 4,
 "nbformat_minor": 0
}
